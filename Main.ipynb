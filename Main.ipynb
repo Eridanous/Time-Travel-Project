{
 "cells": [
  {
   "cell_type": "code",
   "execution_count": 1,
   "metadata": {},
   "outputs": [],
   "source": [
    "import pandas as pd\n",
    "import numpy as np\n",
    "import time\n",
    "import os\n",
    "import glob\n",
    "import pickle\n",
    "import bisect\n",
    "import random\n",
    "\n",
    "import matplotlib.pyplot as plt\n",
    "import matplotlib"
   ]
  },
  {
   "cell_type": "code",
   "execution_count": null,
   "metadata": {},
   "outputs": [],
   "source": []
  },
  {
   "cell_type": "markdown",
   "metadata": {},
   "source": [
    "# Part 1 - Second Stage of Preprocessing"
   ]
  },
  {
   "cell_type": "code",
   "execution_count": 49,
   "metadata": {},
   "outputs": [],
   "source": [
    "# functions for Saving and Loading objects to/from disc\n",
    "def pickleSave(obj,name):\n",
    "    with open(name+'.pkl', 'wb') as output:\n",
    "        pickle.dump(obj, output, pickle.HIGHEST_PROTOCOL)\n",
    "        \n",
    "def pickleLoad(name):\n",
    "    with open(name+'.pkl', 'rb') as input:\n",
    "        return pickle.load(input)\n",
    "    "
   ]
  },
  {
   "cell_type": "code",
   "execution_count": 3,
   "metadata": {},
   "outputs": [],
   "source": [
    "# functions for converting transaction to str for txt file\n",
    "def Buy2String(date,buystr,stock_name,amount): # buystr= 'open' or 'low'\n",
    "    return ' '.join([date, 'buy-'+buystr, stock_name , str(amount)]) \n",
    "    \n",
    "def Sell2String(date,sellstr,stock_name,amount): # sellstr= 'close' or 'high'\n",
    "    return ' '.join([date, 'sell-'+sellstr, stock_name , str(amount)]) "
   ]
  },
  {
   "cell_type": "code",
   "execution_count": 4,
   "metadata": {},
   "outputs": [],
   "source": [
    "# dictionaries that contain df with min (Lows) and max (Highs) for each stock (ex. Lows['IBM'] = DataFrame)  \n",
    "Lows0 = pickleLoad('LowsValid')\n",
    "Highs0 = pickleLoad('HighsValid')"
   ]
  },
  {
   "cell_type": "code",
   "execution_count": 5,
   "metadata": {},
   "outputs": [
    {
     "data": {
      "text/html": [
       "<div>\n",
       "<style scoped>\n",
       "    .dataframe tbody tr th:only-of-type {\n",
       "        vertical-align: middle;\n",
       "    }\n",
       "\n",
       "    .dataframe tbody tr th {\n",
       "        vertical-align: top;\n",
       "    }\n",
       "\n",
       "    .dataframe thead th {\n",
       "        text-align: right;\n",
       "    }\n",
       "</style>\n",
       "<table border=\"1\" class=\"dataframe\">\n",
       "  <thead>\n",
       "    <tr style=\"text-align: right;\">\n",
       "      <th></th>\n",
       "      <th>Price</th>\n",
       "      <th>Date</th>\n",
       "      <th>Volume</th>\n",
       "    </tr>\n",
       "  </thead>\n",
       "  <tbody>\n",
       "    <tr>\n",
       "      <th>0</th>\n",
       "      <td>6.0373</td>\n",
       "      <td>1962-01-08</td>\n",
       "      <td>655676</td>\n",
       "    </tr>\n",
       "    <tr>\n",
       "      <th>2</th>\n",
       "      <td>6.0624</td>\n",
       "      <td>1962-01-19</td>\n",
       "      <td>485021</td>\n",
       "    </tr>\n",
       "    <tr>\n",
       "      <th>4</th>\n",
       "      <td>5.8201</td>\n",
       "      <td>1962-01-30</td>\n",
       "      <td>889207</td>\n",
       "    </tr>\n",
       "    <tr>\n",
       "      <th>6</th>\n",
       "      <td>5.9622</td>\n",
       "      <td>1962-02-19</td>\n",
       "      <td>341313</td>\n",
       "    </tr>\n",
       "  </tbody>\n",
       "</table>\n",
       "</div>"
      ],
      "text/plain": [
       "    Price        Date  Volume\n",
       "0  6.0373  1962-01-08  655676\n",
       "2  6.0624  1962-01-19  485021\n",
       "4  5.8201  1962-01-30  889207\n",
       "6  5.9622  1962-02-19  341313"
      ]
     },
     "execution_count": 5,
     "metadata": {},
     "output_type": "execute_result"
    }
   ],
   "source": [
    "Lows0['IBM'].head(4)"
   ]
  },
  {
   "cell_type": "code",
   "execution_count": 6,
   "metadata": {},
   "outputs": [
    {
     "data": {
      "text/html": [
       "<div>\n",
       "<style scoped>\n",
       "    .dataframe tbody tr th:only-of-type {\n",
       "        vertical-align: middle;\n",
       "    }\n",
       "\n",
       "    .dataframe tbody tr th {\n",
       "        vertical-align: top;\n",
       "    }\n",
       "\n",
       "    .dataframe thead th {\n",
       "        text-align: right;\n",
       "    }\n",
       "</style>\n",
       "<table border=\"1\" class=\"dataframe\">\n",
       "  <thead>\n",
       "    <tr style=\"text-align: right;\">\n",
       "      <th></th>\n",
       "      <th>Price</th>\n",
       "      <th>Date</th>\n",
       "    </tr>\n",
       "  </thead>\n",
       "  <tbody>\n",
       "    <tr>\n",
       "      <th>1</th>\n",
       "      <td>6.2376</td>\n",
       "      <td>1962-01-09</td>\n",
       "    </tr>\n",
       "    <tr>\n",
       "      <th>3</th>\n",
       "      <td>6.1958</td>\n",
       "      <td>1962-01-22</td>\n",
       "    </tr>\n",
       "    <tr>\n",
       "      <th>5</th>\n",
       "      <td>6.2209</td>\n",
       "      <td>1962-02-12</td>\n",
       "    </tr>\n",
       "    <tr>\n",
       "      <th>7</th>\n",
       "      <td>6.0208</td>\n",
       "      <td>1962-02-21</td>\n",
       "    </tr>\n",
       "  </tbody>\n",
       "</table>\n",
       "</div>"
      ],
      "text/plain": [
       "    Price        Date\n",
       "1  6.2376  1962-01-09\n",
       "3  6.1958  1962-01-22\n",
       "5  6.2209  1962-02-12\n",
       "7  6.0208  1962-02-21"
      ]
     },
     "execution_count": 6,
     "metadata": {},
     "output_type": "execute_result"
    }
   ],
   "source": [
    "Highs0['IBM'].head(4)"
   ]
  },
  {
   "cell_type": "code",
   "execution_count": 7,
   "metadata": {},
   "outputs": [
    {
     "name": "stdout",
     "output_type": "stream",
     "text": [
      "Data loaded in 62 s\n"
     ]
    }
   ],
   "source": [
    "# Load Data\n",
    "start_time = time.time()\n",
    "df = pd.read_csv('sortedDFwithVol.csv')\n",
    "print('Data loaded in', round(time.time() - start_time), 's')"
   ]
  },
  {
   "cell_type": "code",
   "execution_count": 8,
   "metadata": {},
   "outputs": [],
   "source": [
    "# we keep the desired columns\n",
    "df = df[['Date','Open','High','Low','Close','Volume','Stock']]"
   ]
  },
  {
   "cell_type": "code",
   "execution_count": 9,
   "metadata": {},
   "outputs": [],
   "source": [
    "# We keep valid values\n",
    "df = df[df.Open >0]\n",
    "df = df[df.High >0]\n",
    "df = df[df.Low >0]\n",
    "df = df[df.Close >0]\n",
    "df = df[df.Volume>0]"
   ]
  },
  {
   "cell_type": "code",
   "execution_count": 10,
   "metadata": {},
   "outputs": [
    {
     "data": {
      "text/html": [
       "<div>\n",
       "<style scoped>\n",
       "    .dataframe tbody tr th:only-of-type {\n",
       "        vertical-align: middle;\n",
       "    }\n",
       "\n",
       "    .dataframe tbody tr th {\n",
       "        vertical-align: top;\n",
       "    }\n",
       "\n",
       "    .dataframe thead th {\n",
       "        text-align: right;\n",
       "    }\n",
       "</style>\n",
       "<table border=\"1\" class=\"dataframe\">\n",
       "  <thead>\n",
       "    <tr style=\"text-align: right;\">\n",
       "      <th></th>\n",
       "      <th>Date</th>\n",
       "      <th>Open</th>\n",
       "      <th>High</th>\n",
       "      <th>Low</th>\n",
       "      <th>Close</th>\n",
       "      <th>Volume</th>\n",
       "      <th>Stock</th>\n",
       "    </tr>\n",
       "  </thead>\n",
       "  <tbody>\n",
       "    <tr>\n",
       "      <th>0</th>\n",
       "      <td>1962-01-02</td>\n",
       "      <td>0.6277</td>\n",
       "      <td>0.6362</td>\n",
       "      <td>0.6201</td>\n",
       "      <td>0.6201</td>\n",
       "      <td>2575579</td>\n",
       "      <td>GE</td>\n",
       "    </tr>\n",
       "  </tbody>\n",
       "</table>\n",
       "</div>"
      ],
      "text/plain": [
       "         Date    Open    High     Low   Close   Volume Stock\n",
       "0  1962-01-02  0.6277  0.6362  0.6201  0.6201  2575579    GE"
      ]
     },
     "execution_count": 10,
     "metadata": {},
     "output_type": "execute_result"
    }
   ],
   "source": [
    "df.head(1)"
   ]
  },
  {
   "cell_type": "code",
   "execution_count": 11,
   "metadata": {},
   "outputs": [
    {
     "data": {
      "text/plain": [
       "14863012"
      ]
     },
     "execution_count": 11,
     "metadata": {},
     "output_type": "execute_result"
    }
   ],
   "source": [
    "df.shape[0]"
   ]
  },
  {
   "cell_type": "code",
   "execution_count": 12,
   "metadata": {},
   "outputs": [],
   "source": [
    "total_len = len(df)"
   ]
  },
  {
   "cell_type": "markdown",
   "metadata": {},
   "source": [
    "#### Generation of DatetoDay, DaytoDate and DayInd."
   ]
  },
  {
   "cell_type": "code",
   "execution_count": 13,
   "metadata": {},
   "outputs": [
    {
     "data": {
      "text/plain": [
       "'\\nDayInd =[0]\\nDatetoDay = dict()\\nDaytoDate = dict()\\nlast_day = df.Date.iat[0]\\nstart_time = time.time()\\n\\nDatetoDay[df.Date.iat[0]] = 0\\nDaytoDate[0] = df.Date.iat[0]\\ncnt= 1\\nfor i in range(0, total_len):#total_len):\\n    cur_day = df.Date.iat[i]\\n    if cur_day > last_day:\\n        last_day = cur_day\\n        DayInd.append(i)\\n        DatetoDay[cur_day] = cnt\\n        DaytoDate[cnt] = cur_day\\n        cnt +=1\\n    if i%1000 == 0 : print(\\'Progress: \\'+str(i)+\\' / \\'+str(total_len)+\\' = \\' + str(100* i/total_len)[0:4]+\\' %\\',end =\\'\\r\\')   \\n\\nprint(\"\\nTime :\", round(time.time() - start_time),\\'s\\', \\'=\\', round((time.time() - start_time)/60), \\'min\\')\\n\\ntotal_days = len(DayInd)    \\nDayInd.append(-1) #the day after the last day\\n'"
      ]
     },
     "execution_count": 13,
     "metadata": {},
     "output_type": "execute_result"
    }
   ],
   "source": [
    "# we don't need to run it again, we just pickleLoad it from next cell\n",
    "\"\"\"\n",
    "DayInd =[0]\n",
    "DatetoDay = dict()\n",
    "DaytoDate = dict()\n",
    "last_day = df.Date.iat[0]\n",
    "start_time = time.time()\n",
    "\n",
    "DatetoDay[df.Date.iat[0]] = 0\n",
    "DaytoDate[0] = df.Date.iat[0]\n",
    "cnt= 1\n",
    "for i in range(0, total_len):#total_len):\n",
    "    cur_day = df.Date.iat[i]\n",
    "    if cur_day > last_day:\n",
    "        last_day = cur_day\n",
    "        DayInd.append(i)\n",
    "        DatetoDay[cur_day] = cnt\n",
    "        DaytoDate[cnt] = cur_day\n",
    "        cnt +=1\n",
    "    if i%1000 == 0 : print('Progress: '+str(i)+' / '+str(total_len)+' = ' + str(100* i/total_len)[0:4]+' %',end ='\\r')   \n",
    "\n",
    "print(\"\\nTime :\", round(time.time() - start_time),'s', '=', round((time.time() - start_time)/60), 'min')\n",
    "\n",
    "total_days = len(DayInd)    \n",
    "DayInd.append(-1) #the day after the last day\n",
    "\"\"\""
   ]
  },
  {
   "cell_type": "code",
   "execution_count": 14,
   "metadata": {},
   "outputs": [],
   "source": [
    "# pickleSave(DatetoDay,'DatetoDay')\n",
    "# pickleSave(DaytoDate,'DaytoDate')\n",
    "# pickleSave(DayInd,'DayInd')"
   ]
  },
  {
   "cell_type": "code",
   "execution_count": 15,
   "metadata": {},
   "outputs": [],
   "source": [
    "DatetoDay = pickleLoad('DatetoDay') # list that converts date (str) to an increasing unique day number for each day   \n",
    "DaytoDate = pickleLoad('DaytoDate') # oppostite of DatetoDay: list that converts day number to date (str) \n",
    "DayInd = pickleLoad('DayInd') # DayInd[day] - list that tells us the index in df of the first stock record at that day   \n",
    "total_days = len(DayInd)  -1 # total days of df (14084 in total)"
   ]
  },
  {
   "cell_type": "code",
   "execution_count": 16,
   "metadata": {},
   "outputs": [
    {
     "name": "stdout",
     "output_type": "stream",
     "text": [
      "0 14083 2017-11-10\n"
     ]
    }
   ],
   "source": [
    "#test cell\n",
    "start_day = '1962-01-02'\n",
    "end_day = '2017-11-10'\n",
    "startD = DatetoDay[start_day]\n",
    "endD = DatetoDay[end_day]\n",
    "\n",
    "print(startD, endD, DaytoDate[14083])"
   ]
  },
  {
   "cell_type": "markdown",
   "metadata": {},
   "source": [
    "#### Generation of StocksLowThatDay and StocksHighThatDay"
   ]
  },
  {
   "cell_type": "code",
   "execution_count": 17,
   "metadata": {},
   "outputs": [
    {
     "data": {
      "text/plain": [
       "\"\\nStocksLowThatDay = dict() # key = date value set of stock names\\nStocksHighThatDay = dict() # key = date value set of stock names\\nfor d in range(total_days):\\n    StocksLowThatDay[d] = set()\\n    StocksHighThatDay[d] = set()\\n\\nprint('Lows')\\nstart_time = time.time()\\ncnt = 1\\ncnt_total = len(Lows)\\nfor stock in Lows:\\n    for i in range(len(Lows[stock])):\\n        day = DatetoDay[Lows[stock].Date.iat[i]]\\n        StocksLowThatDay[day].add(stock)\\n    if cnt %100 ==0 or cnt == cnt_total-1: print('Progress :', cnt+1,'/',cnt_total, '=',str(100*(cnt+1)/cnt_total)[0:4]+' %', end= '\\r')           \\n    cnt+=1\\nprint('\\nTime :', round((time.time() - start_time)), 'sec')\\n\\n\""
      ]
     },
     "execution_count": 17,
     "metadata": {},
     "output_type": "execute_result"
    }
   ],
   "source": [
    "# we don't need to run it again, we just pickleLoad it from next cell\n",
    "\"\"\"\n",
    "StocksLowThatDay = dict() # key = date value set of stock names\n",
    "StocksHighThatDay = dict() # key = date value set of stock names\n",
    "for d in range(total_days):\n",
    "    StocksLowThatDay[d] = set()\n",
    "    StocksHighThatDay[d] = set()\n",
    "\n",
    "print('Lows')\n",
    "start_time = time.time()\n",
    "cnt = 1\n",
    "cnt_total = len(Lows)\n",
    "for stock in Lows:\n",
    "    for i in range(len(Lows[stock])):\n",
    "        day = DatetoDay[Lows[stock].Date.iat[i]]\n",
    "        StocksLowThatDay[day].add(stock)\n",
    "    if cnt %100 ==0 or cnt == cnt_total-1: print('Progress :', cnt+1,'/',cnt_total, '=',str(100*(cnt+1)/cnt_total)[0:4]+' %', end= '\\r')           \n",
    "    cnt+=1\n",
    "print('\\nTime :', round((time.time() - start_time)), 'sec')\n",
    "\n",
    "\"\"\""
   ]
  },
  {
   "cell_type": "code",
   "execution_count": 18,
   "metadata": {},
   "outputs": [
    {
     "data": {
      "text/plain": [
       "\"\\nprint('Highs')\\nstart_time = time.time()\\ncnt = 1\\ncnt_total = len(Highs)\\nfor stock in Highs:\\n    for i in range(len(Highs[stock])):\\n        day = DatetoDay[Highs[stock].Date.iat[i]]\\n        StocksHighThatDay[day].add(stock)\\n    if cnt %100 ==0 or cnt == cnt_total-1: print('Progress :', cnt+1,'/',cnt_total, '=',str(100*(cnt+1)/cnt_total)[0:4]+' %', end= '\\r')           \\n    cnt+=1\\nprint('\\nTime :', round((time.time() - start_time)), 'sec')\\n\""
      ]
     },
     "execution_count": 18,
     "metadata": {},
     "output_type": "execute_result"
    }
   ],
   "source": [
    "\"\"\"\n",
    "print('Highs')\n",
    "start_time = time.time()\n",
    "cnt = 1\n",
    "cnt_total = len(Highs)\n",
    "for stock in Highs:\n",
    "    for i in range(len(Highs[stock])):\n",
    "        day = DatetoDay[Highs[stock].Date.iat[i]]\n",
    "        StocksHighThatDay[day].add(stock)\n",
    "    if cnt %100 ==0 or cnt == cnt_total-1: print('Progress :', cnt+1,'/',cnt_total, '=',str(100*(cnt+1)/cnt_total)[0:4]+' %', end= '\\r')           \n",
    "    cnt+=1\n",
    "print('\\nTime :', round((time.time() - start_time)), 'sec')\n",
    "\"\"\""
   ]
  },
  {
   "cell_type": "code",
   "execution_count": 19,
   "metadata": {},
   "outputs": [],
   "source": [
    "# pickleSave(obj=StocksLowThatDay,name='StocksLowThatDay')\n",
    "# pickleSave(obj=StocksHighThatDay,name='StocksHighThatDay')"
   ]
  },
  {
   "cell_type": "code",
   "execution_count": 20,
   "metadata": {},
   "outputs": [],
   "source": [
    "# StocksLowThatDay[day] -> set of stock names that are active a specific day in Lows\n",
    "StocksLowThatDay = pickleLoad(name='StocksLowThatDay')\n",
    "StocksHighThatDay = pickleLoad(name='StocksHighThatDay')"
   ]
  },
  {
   "cell_type": "markdown",
   "metadata": {},
   "source": [
    "#### Διάγραμμα εκτίμησης αριθμού μετοχών κάθε μέρα που παρουσιάζουν τοπικό ελάχιστο στην τιμή τους"
   ]
  },
  {
   "cell_type": "code",
   "execution_count": 21,
   "metadata": {},
   "outputs": [
    {
     "data": {
      "text/plain": [
       "Text(0.5,1,'Number of active stocks in Lows each day')"
      ]
     },
     "execution_count": 21,
     "metadata": {},
     "output_type": "execute_result"
    },
    {
     "data": {
      "image/png": "[encoded data removed]",
      "text/plain": [
       "<Figure size 432x288 with 1 Axes>"
      ]
     },
     "metadata": {
      "needs_background": "light"
     },
     "output_type": "display_data"
    }
   ],
   "source": [
    "x = []\n",
    "y = []\n",
    "for d in range(0,total_days):\n",
    "    x.append(d)\n",
    "    y.append( len(StocksLowThatDay[d]) )\n",
    "plt.plot(x,y)\n",
    "plt.xlabel('Days')\n",
    "plt.title('Number of active stocks in Lows each day')\n",
    "\n",
    "    "
   ]
  },
  {
   "cell_type": "code",
   "execution_count": 22,
   "metadata": {},
   "outputs": [
    {
     "data": {
      "image/png": "[encoded data removed]",
      "text/plain": [
       "<Figure size 432x288 with 1 Axes>"
      ]
     },
     "metadata": {
      "needs_background": "light"
     },
     "output_type": "display_data"
    }
   ],
   "source": [
    "# s = random.choice(list(StocksLowThatDay[13300]))\n",
    "s='IBM'\n",
    "y1= Lows0[s].Price\n",
    "y2= Highs0[s].Price\n",
    "x=[]\n",
    "\n",
    "for i in range(len(y2)):\n",
    "    x.append(i)\n",
    "\n",
    "plt.scatter(x,y1,s=1)\n",
    "plt.scatter(x,y2,s=1)\n",
    "plt.title(s)\n",
    "plt.xlabel('Days')\n",
    "plt.ylabel('Price')\n",
    "\n",
    "plt.savefig('IBM_fig.eps', format='eps')"
   ]
  },
  {
   "cell_type": "code",
   "execution_count": null,
   "metadata": {},
   "outputs": [],
   "source": []
  },
  {
   "cell_type": "code",
   "execution_count": 23,
   "metadata": {
    "scrolled": false
   },
   "outputs": [],
   "source": [
    "# We make Lows and Highs Sparser by a factor\n",
    "def Sparsify(sparseFactor =1):\n",
    "    if sparseFactor == 1:\n",
    "        return([Lows0,Highs0])\n",
    "    else:\n",
    "        start_time = time.time()\n",
    "        Lows = dict()\n",
    "        Highs = dict()\n",
    "        for st in Lows0:\n",
    "            if len(Lows0[st]) == 0: continue # we skip that stock cause it's empty\n",
    "            tempLows = Lows0[st]\n",
    "            tempHighs = Highs0[st]\n",
    "            #     temp = temp[(temp.index<1000) | (temp.index%sparseFactor == 0) ]\n",
    "            tempLows = tempLows[(tempLows.index%sparseFactor == 0) ]\n",
    "            tempHighs = tempHighs[( (tempHighs.index-1)%sparseFactor == 0) ]\n",
    "\n",
    "            # Change Indexes\n",
    "            L = len(tempLows)\n",
    "            tempind = []\n",
    "            for i in range(L):\n",
    "                tempind.append(i*2)\n",
    "\n",
    "            indexNamesLows = tempLows.index.values\n",
    "            indexNamesHighs = tempHighs.index.values\n",
    "            for i in range(L):\n",
    "                indexNamesLows[i] = tempind[i]\n",
    "                indexNamesHighs[i] = tempind[i]+1\n",
    "            #     del indexNamesLows, indexNamesHighs \n",
    "\n",
    "            Lows[st] = tempLows\n",
    "            Highs[st] = tempHighs\n",
    "        print('Time :', int(time.time() - start_time),'sec')\n",
    "        return([Lows,Highs])"
   ]
  },
  {
   "cell_type": "code",
   "execution_count": 24,
   "metadata": {},
   "outputs": [],
   "source": [
    "res = Sparsify(sparseFactor=1) # for sparseFactor=1 we keep everything unchanged\n",
    "Lows , Highs = res[0], res[1]"
   ]
  },
  {
   "cell_type": "markdown",
   "metadata": {},
   "source": [
    "### Preview of Sparsify Function"
   ]
  },
  {
   "cell_type": "code",
   "execution_count": 25,
   "metadata": {},
   "outputs": [
    {
     "name": "stdout",
     "output_type": "stream",
     "text": [
      "Time : 7 sec\n"
     ]
    },
    {
     "data": {
      "text/plain": [
       "Text(0,0.5,'Price')"
      ]
     },
     "execution_count": 25,
     "metadata": {},
     "output_type": "execute_result"
    },
    {
     "data": {
      "image/png": "[encoded data removed]",
      "text/plain": [
       "<Figure size 432x288 with 1 Axes>"
      ]
     },
     "metadata": {
      "needs_background": "light"
     },
     "output_type": "display_data"
    }
   ],
   "source": [
    "# s = random.choice(list(StocksLowThatDay[10000]))\n",
    "res = Sparsify(sparseFactor=50) # for sparseFactor=1 we keep everything\n",
    "Lows_temp , Highs_temp = res[0], res[1]\n",
    "s='IBM'\n",
    "y1= Lows_temp[s].Price\n",
    "y2= Highs_temp[s].Price\n",
    "x=[]\n",
    "for i in range(len(y2)):\n",
    "    x.append(i)\n",
    "\n",
    "plt.scatter(x,y1,s=1)\n",
    "plt.scatter(x,y2,s=1)\n",
    "plt.title(s+' - Sparse Farctor = 50')\n",
    "plt.xlabel('Days')\n",
    "plt.ylabel('Price')"
   ]
  },
  {
   "cell_type": "markdown",
   "metadata": {},
   "source": [
    "Παρατηρούμε ότι διατηρείται η μορφή της γραφικής αλλά έχει λιγότερα σημεία. Με αυτό τον τρόπο ο χρόνος της επεξεργασίας μειώνεται."
   ]
  },
  {
   "cell_type": "code",
   "execution_count": null,
   "metadata": {},
   "outputs": [],
   "source": []
  },
  {
   "cell_type": "code",
   "execution_count": null,
   "metadata": {},
   "outputs": [],
   "source": []
  },
  {
   "cell_type": "markdown",
   "metadata": {},
   "source": [
    "# Part 2 - Class and Function Definitions"
   ]
  },
  {
   "cell_type": "markdown",
   "metadata": {},
   "source": [
    "### Our Class which contains our transactions history"
   ]
  },
  {
   "cell_type": "code",
   "execution_count": 26,
   "metadata": {},
   "outputs": [],
   "source": [
    "class Possesions:\n",
    "    def __init__(self):\n",
    "        self.Balance = dict() # key = day, value = myBalance for each day\n",
    "        self.BalanceNow = 1\n",
    "        self.Stocks = dict(dict()) # key = day, value = dict(key = stock, value = [amount, total_value]) (total_value = amount*price)   \n",
    "        self.CurrentStocks = dict([]) # key = stock, value = [amount, total_value]\n",
    "        self.Moves = []\n",
    "           \n",
    "            \n",
    "    def buy(self,day,stock_name,buy_price, buystr, amount):\n",
    "        estim_price = buy_price\n",
    "        self.BalanceNow -=  amount*buy_price\n",
    "        self.Balance[day] = self.BalanceNow  \n",
    "        \n",
    "        if stock_name not in self.CurrentStocks: self.CurrentStocks[stock_name] = [0,0]\n",
    "        self.CurrentStocks[stock_name][0] += amount\n",
    "        self.CurrentStocks[stock_name][1] = self.CurrentStocks[stock_name][0]*estim_price\n",
    "        \n",
    "        if day not in  self.Stocks:  self.Stocks[day] = dict()\n",
    "        if stock_name not in self.Stocks[day]: self.Stocks[day][stock_name] =  [0,0]\n",
    "        self.Stocks[day][stock_name][0] = self.CurrentStocks[stock_name][0]\n",
    "        self.Stocks[day][stock_name][1] = self.CurrentStocks[stock_name][1]\n",
    "        \n",
    "        trans = Buy2String(DaytoDate[day], buystr, stock_name, int(amount))\n",
    "        self.Moves.append(trans)\n",
    "        \n",
    "         \n",
    "    def sell(self, day, stock_name, sell_price, sellstr, amount):\n",
    "        self.BalanceNow +=  amount*sell_price\n",
    "        self.Balance[day] = self.BalanceNow  \n",
    "        \n",
    "        if stock_name not in self.CurrentStocks: self.CurrentStocks[stock_name] = [0,0]\n",
    "        self.CurrentStocks[stock_name][0] -= amount\n",
    "        self.CurrentStocks[stock_name][1] = self.CurrentStocks[stock_name][0]*sell_price\n",
    "        \n",
    "        if day not in  self.Stocks:  self.Stocks[day] = dict()\n",
    "        if stock_name not in self.Stocks[day]: self.Stocks[day][stock_name] =  [0,0]\n",
    "        self.Stocks[day][stock_name][0] = self.CurrentStocks[stock_name][0]\n",
    "        self.Stocks[day][stock_name][1] = self.CurrentStocks[stock_name][1]\n",
    "        \n",
    "        if int(self.CurrentStocks[stock_name][0]) == 0 : \n",
    "            del self.CurrentStocks[stock_name]\n",
    "            del self.Stocks[day][stock_name]\n",
    "            if self.Stocks[day] == dict(): del self.Stocks[day]\n",
    "\n",
    "        trans = Sell2String(DaytoDate[day], sellstr, stock_name, int(amount))\n",
    "        self.Moves.append(trans)"
   ]
  },
  {
   "cell_type": "code",
   "execution_count": null,
   "metadata": {},
   "outputs": [],
   "source": []
  },
  {
   "cell_type": "markdown",
   "metadata": {},
   "source": [
    "### Greedy Intraday Transactions Function"
   ]
  },
  {
   "cell_type": "code",
   "execution_count": 27,
   "metadata": {},
   "outputs": [],
   "source": [
    "def GreedyIntraday(Nmax = 1000, start_day =0, end_day = total_days-1, day_step = 1, maxStockspDay = 1, message = True, ConsiderVol = True):     # Nmax = megistos # kinhsewn\n",
    "    global myBalance\n",
    "    time_limit = 5* 60 * 60\n",
    "    N = 0 # current move number\n",
    "    day = start_day \n",
    "    total_len = len(df)\n",
    "    start_time = time.time()\n",
    "    \n",
    "    if message: print('Intraday Transactions Started...\\n')\n",
    "    \n",
    "    while (N<=Nmax-2 and day<=end_day):\n",
    "        maxprofits = [0] # ascending list with profits each day\n",
    "        maxindexes,maxbuys,maxbuystrings,maxsells,maxsellstrings = [0],[0],[0],[0],[0]\n",
    "        maxamounts = [0]\n",
    "        \n",
    "        nextDInd = DayInd[day+1]\n",
    "        if nextDInd == -1 : nextDInd == total_len\n",
    "        temp_bal  = myBalance # balance during the day \n",
    "        \n",
    "        Nst = 1 # Nst = # of stock that day\n",
    "        for i in range(DayInd[day], nextDInd): # at that day find the stocks with max profit that we can afford  \n",
    "            op , high , low , cl = df.Open.iat[i] , df.High.iat[i] , df.Low.iat[i] , df.Close.iat[i]\n",
    "            t1 = high - op  # early transaction\n",
    "            t2 = cl - low  # late transaction\n",
    "            \n",
    "            amount1 , amount2 = int(myBalance//op) , int(myBalance//low)\n",
    "            Vol = df.Volume.iat[i]\n",
    "            if amount1>=Vol: amount1=Vol\n",
    "            if amount2>=Vol: amount2=Vol                \n",
    "            profit1 , profit2 = t1*amount1 , t2*amount2          \n",
    "            \n",
    "            entered = False\n",
    "            if profit1 >= profit2 and profit1>0:\n",
    "                imax, buy, buystr, sell, sellstr, maxprofit = i, op, 'open', high, 'high', profit1\n",
    "                amount, entered = amount1 , True\n",
    "            elif profit2 >= profit1 and profit2>0:\n",
    "                imax, buy, buystr, sell, sellstr, maxprofit = i, low, 'low', cl, 'close', profit2       \n",
    "                amount , entered = amount2 , True\n",
    "            \n",
    "            if entered and buy<myBalance and maxprofit>maxprofits[0]:\n",
    "                ind = bisect.bisect(maxprofits, maxprofit)\n",
    "                maxprofits.insert(ind,maxprofit)\n",
    "                maxindexes.insert(ind,imax)\n",
    "                maxbuys.insert(ind, buy)\n",
    "                maxbuystrings.insert(ind,buystr)\n",
    "                maxsells.insert(ind, sell)\n",
    "                maxsellstrings.insert(ind,sellstr)\n",
    "                maxamounts.insert(ind,amount)\n",
    "                \n",
    "                while maxprofits[0] == 0:\n",
    "                    del maxprofits[0], maxindexes[0]\n",
    "                    del maxbuys[0],maxbuystrings[0],maxsells[0],maxsellstrings[0],maxamounts[0] \n",
    "                    Nst -= 1\n",
    "\n",
    "        if maxprofits[-1] > 0: #there is at least one good intraday transaction\n",
    "            for k in range(len(maxprofits)-1, -1, -1): # iterate through maxprofits starting from the end \n",
    "                buy  = maxbuys[k]\n",
    "                amountlimit = maxamounts[k]\n",
    "                temp_amount = int(temp_bal // buy)\n",
    "                amount = min(amountlimit, temp_amount)\n",
    "\n",
    "                if amount > 0:\n",
    "                    imax = maxindexes[k]\n",
    "                    buystr, sell, sellstr = maxbuystrings[k], maxsells[k], maxsellstrings[k]\n",
    "                    stock_name = df.Stock.iat[imax]\n",
    "                    MY.buy(day,stock_name, buy,buystr, amount) # day,stock_name,buy_price, buystr, amount\n",
    "                    MY.sell(day,stock_name, sell,sellstr, amount)  # day, stock_name, sell_price, buystr, amount    \n",
    "                    N += 2\n",
    "                    Nst += 1\n",
    "                    myBalance += (sell-buy)*amount\n",
    "                    temp_bal -= amount*buy\n",
    "                else: break\n",
    "                \n",
    "                if maxStockspDay>0: \n",
    "                    if Nst>= maxStockspDay:break            \n",
    "            \n",
    "        \n",
    "        day += day_step\n",
    "        if message:\n",
    "            if ((day>6000 and day%10 ==0) or day == end_day or N == Nmax): \n",
    "                print('Day:', day,'/',end_day,'- Transaction Progress :',N,' - Balance:',str(myBalance)[0]+' x 10^'+str(len(str(int(myBalance)))-1)+' $' ,end='\\r')      \n",
    "    \n",
    "    if message:\n",
    "        print()\n",
    "        print('Time :', round(time.time() - start_time), 'sec =',round((time.time() - start_time)/60), 'min')\n",
    "        if myBalance<10:\n",
    "            first_dig_rounded, first_dig = str(round(myBalance*10)//10), str(int(myBalance))\n",
    "        else:\n",
    "            first_dig_rounded = str(round(int((str(int(myBalance))[0:2]))/10))\n",
    "            first_dig = str(int(myBalance))[0]\n",
    "        bal = first_dig_rounded + ' x 10^' + str(len( str(int(myBalance)))-1) +' $'\n",
    "        print('My Balance = ', bal, 'in',N,'moves (' + str( int(myBalance)) + ' $)')\n",
    "        print('Total Moves until now:',len(MY.Moves))\n",
    "        if day>=total_days: day=total_days-1\n",
    "        print('Stopped at:', DaytoDate[day]  +', which is day:' , day+1, '/', total_days)\n",
    "        print('\\n...Intraday Transactions Finished\\n \\n')\n",
    "    \n",
    "    return(day)\n"
   ]
  },
  {
   "cell_type": "code",
   "execution_count": null,
   "metadata": {},
   "outputs": [],
   "source": []
  },
  {
   "cell_type": "markdown",
   "metadata": {},
   "source": [
    "### Intraday Single Transaction Function"
   ]
  },
  {
   "cell_type": "code",
   "execution_count": 28,
   "metadata": {},
   "outputs": [],
   "source": [
    "def Intraday(Nmax = 1000, start_day =0, end_day = total_days-1, day_step = 1, message = True, ConsiderVol = True):     # Nmax = megistos # kinhsewn\n",
    "    global myBalance\n",
    "    time_limit = 5* 60 * 60\n",
    "    N = 0 # current move number\n",
    "    day = start_day \n",
    "    total_len = len(df)\n",
    "    start_time = time.time()\n",
    "    \n",
    "    if message: print('Intraday Transactions Started...\\n')\n",
    "    \n",
    "    while (N<=Nmax-2 and day<=end_day):\n",
    "        imax = -1\n",
    "        maxprofit = 0\n",
    "        nextDInd = DayInd[day+1]\n",
    "        if nextDInd == -1 : nextDInd == total_len\n",
    "        for i in range(DayInd[day], nextDInd): # at that day find the stock with max profit that we can afford  \n",
    "            op = df.Open.iat[i] \n",
    "            high =  df.High.iat[i]  \n",
    "            low =  df.Low.iat[i]  \n",
    "            cl =  df.Close.iat[i]\n",
    "\n",
    "            t1 = high - op  # early\n",
    "            t2 = cl - low  # late\n",
    "            \n",
    "            amount1 = int(myBalance//op)\n",
    "            amount2 = int(myBalance//low)\n",
    "            if ConsiderVol:\n",
    "                Vol = df.Volume.iat[i]\n",
    "                if amount1>=Vol: amount1=Vol\n",
    "                if amount2>=Vol: amount2=Vol                \n",
    "            profit1 = t1*amount1            \n",
    "            profit2 = t2*amount2\n",
    "            \n",
    "            if profit1 >= profit2 and profit1>maxprofit:\n",
    "                imax, buy, buystr, sell, sellstr, maxprofit = i, op, 'open', high, 'high', profit1\n",
    "                amount = amount1\n",
    "            elif profit2 >= profit1 and profit2>maxprofit:\n",
    "                imax, buy, buystr, sell, sellstr, maxprofit = i, low, 'low', cl, 'close', profit2       \n",
    "                amount = amount2\n",
    "\n",
    "        if maxprofit > 0:\n",
    "            stock_name = df.Stock.iat[imax]\n",
    "\n",
    "            MY.buy(day,stock_name,buy,buystr,amount) # day,stock_name,buy_price, buystr, amount\n",
    "            MY.sell(day,stock_name, sell,sellstr, amount)  # day, stock_name, sell_price, buystr, amount    \n",
    "            N += 2\n",
    "            myBalance += maxprofit\n",
    "\n",
    "        day += day_step\n",
    "        if message:\n",
    "            if ((day>6000 and day%10 ==0) or day == end_day or N == Nmax): print('Day:', day,'/',end_day, '- Transaction Progress :', N,end='\\r')      \n",
    "        \n",
    "    if message:\n",
    "        print()\n",
    "        print('Time :', round(time.time() - start_time), 'sec =',round((time.time() - start_time)/60), 'min')\n",
    "        if myBalance<10:\n",
    "            first_dig_rounded, first_dig = str(round(myBalance*10)//10), str(int(myBalance))\n",
    "        else:\n",
    "            first_dig_rounded = str(round(int((str(int(myBalance))[0:2]))/10))\n",
    "            first_dig = str(int(myBalance))[0]\n",
    "        bal = first_dig_rounded + ' x 10^' + str(len( str(int(myBalance)))-1) +' $'\n",
    "        print('My Balance = ', bal, 'in',N,'moves (' + str( int(myBalance)) + ' $)')\n",
    "        print('Total Moves until now:',len(MY.Moves))\n",
    "        if day>=total_days: day=total_days-1\n",
    "        print('Stopped at:', DaytoDate[day]  +', which is day:' , day+1, '/', total_days)\n",
    "        print('\\n...Intraday Transactions Finished\\n \\n')\n",
    "    \n",
    "    return(day)"
   ]
  },
  {
   "cell_type": "code",
   "execution_count": null,
   "metadata": {},
   "outputs": [],
   "source": []
  },
  {
   "cell_type": "markdown",
   "metadata": {},
   "source": [
    "### Early Days Transactions Function"
   ]
  },
  {
   "cell_type": "code",
   "execution_count": 29,
   "metadata": {},
   "outputs": [],
   "source": [
    "# Early Days Transactions Function\n",
    "\n",
    "def EarlyDayMoves(Nmax, days_per_win, start_day=0, message= True, ConsiderVol = True):\n",
    "    global myBalance\n",
    "    start_time = time.time()\n",
    "    \n",
    "    res = CreateEarlyWindows(Nmax, days_per_win)\n",
    "    startDays = res[0]\n",
    "    endDays = res[1]\n",
    "    \n",
    "    N = 0 # current move number\n",
    "    if message: print('Early Days Transactions Started...\\n')\n",
    "    start_time = time.time()\n",
    "    windows = len(startDays)    \n",
    "    for win in range(windows):\n",
    "        # Window ========================================================================================\n",
    "        startD = startDays[win] # first = 0\n",
    "        endD = endDays[win] # last = 14083\n",
    "        startind, endind = DayInd[startD], DayInd[endD+1]-1\n",
    "        \n",
    "        maxprofit = 0\n",
    "        for i in range(startind,endind): # i is the index of low (buy)\n",
    "            name = df.Stock.iat[i]\n",
    "            low = df.Low.iat[i]\n",
    "            amount = int(myBalance//low)\n",
    "            \n",
    "            if amount > 0 and myBalance >low:\n",
    "                if ConsiderVol:\n",
    "                    vol = df.Volume.iat[i]\n",
    "                if amount > vol: amount = vol\n",
    "                    \n",
    "                for j in range(i+1,endind+1): # j is the index of high (sell)\n",
    "                    temp_name = df.Stock.iat[j]\n",
    "                    if temp_name == name:\n",
    "                        high = df.High.iat[j]\n",
    "                        dif = high - low\n",
    "                        profit = amount*dif\n",
    "                        if profit > maxprofit:\n",
    "                            maxprofit , imax , jmax = profit , i , j\n",
    "                            buy_price , sell_price = low , high\n",
    "                            maxamount , maxname = amount , name\n",
    "    \n",
    "        if maxprofit > 0:\n",
    "            N+=2\n",
    "            buydate , selldate = df.Date.iat[imax] , df.Date.iat[jmax]\n",
    "            buyday, sellday = DatetoDay[buydate], DatetoDay[selldate]            \n",
    "\n",
    "            MY.buy(buyday, maxname, buy_price, 'low',maxamount) #(day,stock_name,buy_price,buystr, amount)  \n",
    "            myBalance -= maxamount*buy_price\n",
    "\n",
    "            MY.sell(sellday, maxname, sell_price, 'high', maxamount)\n",
    "            myBalance += maxamount*sell_price\n",
    "            \n",
    "            \n",
    "        if win%1==0 or win == windows-1: \n",
    "            print('Window :', win+1, '/',windows,'- Time :', int(time.time() - start_time),'sec =',int((time.time() - start_time)//60),'min',end='\\r')   \n",
    "    print()\n",
    "    if myBalance<10:\n",
    "        first_dig_rounded, first_dig = str(round(myBalance*10)//10), str(int(myBalance))\n",
    "    else:\n",
    "        first_dig_rounded = str(round(int((str(int(myBalance))[0:2]))/10))\n",
    "        first_dig = str(int(myBalance))[0]\n",
    "    bal = first_dig_rounded + ' x 10^' + str(len( str(int(myBalance)))-1) +' $'\n",
    "    print('My Balance = ', bal, 'in',N,'moves (' + str( int(myBalance)) + ' $)')\n",
    "    print('Total Moves until now:',len(MY.Moves))\n",
    "    print('Stopped at:', DaytoDate[endD]  +', which is day:' , endD+1, '/', total_days)\n",
    "    print('\\n...Early Day Transactions Finished\\n \\n')\n",
    "    \n",
    "    return(endD)"
   ]
  },
  {
   "cell_type": "code",
   "execution_count": 30,
   "metadata": {},
   "outputs": [],
   "source": [
    "def CreateEarlyWindows(Nmax, days_per_win, start_day=0): # time windows for the first moves\n",
    "    windows = int(Nmax//2)\n",
    "    if windows*days_per_win> total_days: \n",
    "        print('Not enough days in DF')\n",
    "        return(None)\n",
    "    startDays, endDays = [], []\n",
    "    for w in range(windows):\n",
    "        startDays.append(start_day + w*days_per_win)\n",
    "        endDays.append(start_day + (w+1)*days_per_win -1)\n",
    "    return([startDays,endDays])\n",
    "    "
   ]
  },
  {
   "cell_type": "code",
   "execution_count": 31,
   "metadata": {},
   "outputs": [],
   "source": [
    "## test cell \n",
    "# c =CreateEarlyWindows(Nmax=100, days_per_win=10)\n",
    "# a,b = c[0],c[1]\n",
    "# print(a,'\\n',b)"
   ]
  },
  {
   "cell_type": "code",
   "execution_count": null,
   "metadata": {},
   "outputs": [],
   "source": []
  },
  {
   "cell_type": "markdown",
   "metadata": {},
   "source": [
    "### Min Max Transactions Function"
   ]
  },
  {
   "cell_type": "code",
   "execution_count": 32,
   "metadata": {},
   "outputs": [],
   "source": [
    "# Min-Max Moves\n",
    "def MinMaxMoves(Nmax, start_day, end_day, message = True, ConsiderVol = True):\n",
    "    global myBalance\n",
    "    \n",
    "    N = 0 # current move number\n",
    "    res = CreateWindows(Nmax, start_day, end_day)\n",
    "    startDays = res[0]\n",
    "    endDays = res[1]\n",
    "    \n",
    "    if message: print('MinMax Transactions Started...\\n')\n",
    "    start_time = time.time()\n",
    "    windows = len(startDays)    \n",
    "    for win in range(windows):\n",
    "        # Window ===============================================================================================\n",
    "        startD = startDays[win] # first = 0\n",
    "        endD = endDays[win] # last = 14083\n",
    "\n",
    "        StocksInWindow = set()\n",
    "        for day in range(startD,endD+1):\n",
    "            StocksInWindow = StocksInWindow.union(StocksLowThatDay[day])\n",
    "\n",
    "        maxprofit = 0 # max (high - low)*amount\n",
    "        for st in StocksInWindow:\n",
    "            # Find index limits (start_ind of Lows, end_ind of Highs)-------------------------------------------\n",
    "            start_ind_temp = Lows[st][Lows[st].Date >= DaytoDate[startD]].index.tolist()\n",
    "            if start_ind_temp != []: \n",
    "                start_ind = start_ind_temp[0]\n",
    "            else:\n",
    "                continue # we skip that stock   \n",
    "\n",
    "            end_ind_temp = Highs[st][Highs[st].Date <= DaytoDate[endD] ].index.tolist()\n",
    "            if end_ind_temp != []: \n",
    "                end_ind = end_ind_temp[-1]\n",
    "            else:\n",
    "                continue\n",
    "\n",
    "            if start_ind >= end_ind: continue\n",
    "            # -----------------------------------------------------------------------------------\n",
    "            ilow = start_ind # index of Lows\n",
    "            ihigh = ilow+1 # index of Highs\n",
    "            low = Lows[st].Price.iat[ilow//2] # or .at[ilow]\n",
    "            lowest = low\n",
    "\n",
    "            stop = False\n",
    "            while stop == False: \n",
    "        #         low = Lows[st].Price.iat[ilow//2]\n",
    "                high =  Highs[st].Price.iat[ihigh//2]\n",
    "                if low<lowest: lowest = low\n",
    "                dif = high - low\n",
    "                amount = int(myBalance//low)\n",
    "                if ConsiderVol:\n",
    "                    vol = Lows[st].Volume.iat[ilow//2]\n",
    "                    if amount>vol: amount = vol\n",
    "                profit = amount*dif\n",
    "                \n",
    "                if amount>0 and profit > maxprofit:\n",
    "                    maxprofit = profit\n",
    "                    buy_sell_name , maxamount = st , amount\n",
    "                    buydate, selldate = Lows[st].Date.iat[ilow//2], Highs[st].Date.iat[ihigh//2]\n",
    "                    buy_price, sell_price = low, high\n",
    "\n",
    "                if ihigh<end_ind:\n",
    "                    nextlow = Lows[st].Price.iat[(ihigh+1)//2]\n",
    "                    if nextlow < lowest:\n",
    "                        ihigh += 2\n",
    "                        ilow = ihigh - 1\n",
    "                        low = nextlow\n",
    "                    else:\n",
    "                        ihigh += 2\n",
    "                else:\n",
    "                    stop = True\n",
    "                    \n",
    "        if maxprofit>0: # do the transaction\n",
    "            N+=2\n",
    "            buyday, sellday = DatetoDay[buydate], DatetoDay[selldate]\n",
    "            \n",
    "            MY.buy(buyday, buy_sell_name, buy_price, 'low',maxamount) #(day,stock_name,buy_price,buystr, amount)  \n",
    "            myBalance -= maxamount*buy_price\n",
    "\n",
    "            MY.sell(sellday, buy_sell_name, sell_price, 'high', maxamount)\n",
    "            myBalance += maxamount*sell_price\n",
    "        # Window End ==========================================================================================  \n",
    "        if message and (win%10==0 or startD>10000 or win == windows-1 ): print('Window :', win+1, '/',windows,'- Time :', int(time.time() - start_time), 'sec =',int((time.time() - start_time)//60),'min'  ,end='\\r')\n",
    "\n",
    "    if message:\n",
    "        print('\\nTotal Min-Max Moves Time :', int(time.time() - start_time), 'sec')\n",
    "        if myBalance<10:\n",
    "            first_dig_rounded, first_dig = str(round(myBalance)), str(round(myBalance))\n",
    "        else:\n",
    "            first_dig_rounded = str(round(int((str(int(myBalance))[0:2]))/10))\n",
    "            first_dig = str(int(myBalance))[0]\n",
    "        bal = first_dig + ' x 10^' + str(len( str(int(myBalance)))-1) +' $'\n",
    "        print('My Balance = ', bal, 'in',N,'moves (' + str( int(myBalance)) + ' $)')\n",
    "        print('Total Moves until now:',len(MY.Moves))\n",
    "        print('Stopped at:', DaytoDate[endD]  +', which is day:' , endD+1, '/', total_days)\n",
    "        print('\\n...Min Max Transactions Finished\\n \\n')\n",
    "    "
   ]
  },
  {
   "cell_type": "code",
   "execution_count": 33,
   "metadata": {},
   "outputs": [],
   "source": [
    "# create time windows for MinMaxMoves Function\n",
    "def CreateWindows(Nmax, start_day = 0, end_day= total_days-1):\n",
    "    num_of_windows = Nmax//2\n",
    "    startDays, endDays = [], []\n",
    "    \n",
    "    tot_days = end_day - start_day + 1\n",
    "    days_per_window = tot_days // num_of_windows\n",
    "    \n",
    "    for i in range(num_of_windows):\n",
    "        startDays.append( start_day + i*days_per_window)\n",
    "        endDays.append( start_day + (i+1)*days_per_window - 1)\n",
    "    \n",
    "    endDays[-1] = end_day\n",
    "    return([startDays, endDays])  "
   ]
  },
  {
   "cell_type": "code",
   "execution_count": null,
   "metadata": {},
   "outputs": [],
   "source": []
  },
  {
   "cell_type": "markdown",
   "metadata": {},
   "source": [
    "### Create TXT File Function"
   ]
  },
  {
   "cell_type": "code",
   "execution_count": 34,
   "metadata": {},
   "outputs": [],
   "source": [
    "# create txt output file for submission at \"https://courses.softlab.ntua.gr/progds/2018b/time-travel/\"\n",
    "def CreateTXT(file_name):\n",
    "    file = open(file_name+\".txt\", \"w+\") \n",
    "    totMoves = len(MY.Moves)\n",
    "    file.write(str(totMoves)) \n",
    "    for i in range(totMoves):\n",
    "         file.write('\\n' + MY.Moves[i])\n",
    "    file.close() "
   ]
  },
  {
   "cell_type": "code",
   "execution_count": null,
   "metadata": {},
   "outputs": [],
   "source": []
  },
  {
   "cell_type": "code",
   "execution_count": null,
   "metadata": {},
   "outputs": [],
   "source": []
  },
  {
   "cell_type": "markdown",
   "metadata": {},
   "source": [
    "### Plot Functions"
   ]
  },
  {
   "cell_type": "code",
   "execution_count": 35,
   "metadata": {},
   "outputs": [],
   "source": [
    "def findIndex(day,stock_name):\n",
    "    istart = DayInd[day]\n",
    "    if day == total_days-1:\n",
    "        iend = total_len-1\n",
    "    else:\n",
    "        iend = DayInd[day+1]\n",
    "    \n",
    "    for i in range(istart,iend+1):\n",
    "        if df.Stock.iat[i] == stock_name: return(i)\n",
    "    return(None)\n",
    "            \n",
    "    "
   ]
  },
  {
   "cell_type": "code",
   "execution_count": null,
   "metadata": {},
   "outputs": [],
   "source": []
  },
  {
   "cell_type": "code",
   "execution_count": 36,
   "metadata": {},
   "outputs": [],
   "source": [
    "# total_days = 14084"
   ]
  },
  {
   "cell_type": "code",
   "execution_count": 37,
   "metadata": {},
   "outputs": [],
   "source": [
    "def BalPortfProgress():\n",
    "    start_time = time.time()\n",
    "    print('Creating Balance and Portfolio Progress through the years...')\n",
    "    bal = [1]\n",
    "    portf = [1] # balance + total value of my stocks each day\n",
    "    for d in range(0,total_days):\n",
    "        if d not in MY.Balance:\n",
    "            bal.append(bal[-1])\n",
    "        else:\n",
    "            bal.append(MY.Balance[d])\n",
    "\n",
    "        if d not in MY.Stocks: MY.Stocks[d] = dict()\n",
    "        if d < total_days-1:\n",
    "            for inactiveStock in MY.Stocks[d]:\n",
    "                if MY.Stocks[d][inactiveStock] != []:\n",
    "                    temp_amount = MY.Stocks[d][inactiveStock][0]\n",
    "                    if d+1 not in MY.Stocks:MY.Stocks[d+1] = dict()\n",
    "                    if inactiveStock not in MY.Stocks[d+1] and  temp_amount>=1: \n",
    "                        MY.Stocks[d+1][inactiveStock] = [temp_amount,0]\n",
    "\n",
    "                        ind = findIndex(d,inactiveStock)\n",
    "                        i = 1\n",
    "                        while ind == None: # if is it a missing value we get the lastday it wasn't missing\n",
    "                            ind = findIndex(d-i,inactiveStock)\n",
    "                            i += 1\n",
    "                        temp_price = df.Close.iat[ind]\n",
    "                        MY.Stocks[d+1][inactiveStock][1] = temp_amount * temp_price\n",
    "\n",
    "        sum0 = 0\n",
    "        for st in MY.Stocks[d]:\n",
    "            if MY.Stocks[d] != dict():\n",
    "                if MY.Stocks[d][st] != []:\n",
    "                    sum0 +=  MY.Stocks[d][st][1]\n",
    "\n",
    "        portf.append(sum0 + bal[-1]) \n",
    "\n",
    "        if d % 100 ==0 or d == total_days-1: print('Progress: ' +str(d+1)+' / '+str(total_days)+' = ' + str(100* (d+1)/total_days)[0:4]+' %'+' - Time :', round((time.time() - start_time)/60),'min' ,end ='\\r')         \n",
    "\n",
    "    print()\n",
    "    print('Finished in :', time.time()-start_time, 'sec \\n')\n",
    "    \n",
    "    return(bal, portf)"
   ]
  },
  {
   "cell_type": "code",
   "execution_count": 38,
   "metadata": {},
   "outputs": [],
   "source": [
    "def PlotAll(bal,portf,fig_name):\n",
    "    start_time = time.time()\n",
    "    print('Plot')\n",
    "    print('Converting to Arrays...')\n",
    "    x= np.array([i for i in range(0,total_days+1)])\n",
    "    y = np.array(bal)\n",
    "    y2 = np.array(portf) \n",
    "\n",
    "    print('Conversion Finished in :', time.time() - start_time, 'sec')\n",
    "    \n",
    "    # Plot Ticks===========================================================\n",
    "    first_year = df.Date.iat[DayInd[0]][0:4]\n",
    "    last_year = df.Date.iat[DayInd[-2]][0:4]\n",
    "    num_ticks = int(last_year) - int(first_year) +1  # number of years\n",
    "\n",
    "    for i in range(total_days -1,0,-1):\n",
    "        if df.Date.iat[DayInd[i]][0:4] < last_year:\n",
    "            LYsFD = i+1 # last year's first day\n",
    "            break\n",
    "\n",
    "    step = LYsFD/num_ticks\n",
    "    tick_locations = [int(i) for i in np.arange(0,LYsFD+1,step)]\n",
    "\n",
    "    tick_labels= []\n",
    "    temp= int(first_year)\n",
    "    for i in range(num_ticks):\n",
    "        tick_labels.append(temp)\n",
    "        temp += 1\n",
    "    \n",
    "    if len(tick_labels) >10:\n",
    "        year_step = 10 # Time duration between ticks\n",
    "    else:\n",
    "        year_step = 5\n",
    "\n",
    "    temp_loc = []\n",
    "    temp_labels =[]\n",
    "    for i in range(0,len(tick_labels),year_step):\n",
    "        temp_loc.append(tick_locations[i])\n",
    "        temp_labels.append(tick_labels[i])\n",
    "\n",
    "    tick_locations = temp_loc\n",
    "    tick_labels = temp_labels\n",
    "    #==================================================================================\n",
    "    \n",
    "    # PLOT=============================================================================\n",
    "    plt.plot(x, y)\n",
    "    plt.yscale(value='log')\n",
    "    plt.fill_between(x,y,label='Balance')\n",
    "    # plt.plot(x, y2,label='Portfolio')\n",
    "    plt.fill_between(x,y2,y,label='Portfolio')\n",
    "    # plt.fill_between(x,y2,y,where=(y2>=y),label='Portfolio')\n",
    "\n",
    "    # plt.legend(loc='best')\n",
    "    plt.legend(loc='upper left')\n",
    "    plt.xticks(tick_locations, tick_labels)\n",
    "    plt.title('Valuation')\n",
    "    plt.savefig(fig_name+'_fig.eps', format='eps')\n",
    "    #==================================================================================\n",
    "    "
   ]
  },
  {
   "cell_type": "code",
   "execution_count": null,
   "metadata": {},
   "outputs": [],
   "source": []
  },
  {
   "cell_type": "code",
   "execution_count": null,
   "metadata": {},
   "outputs": [],
   "source": []
  },
  {
   "cell_type": "markdown",
   "metadata": {},
   "source": [
    "# Part 3 - Run"
   ]
  },
  {
   "cell_type": "markdown",
   "metadata": {},
   "source": [
    "### Large.txt - Greedy Intraday Transactions"
   ]
  },
  {
   "cell_type": "code",
   "execution_count": 39,
   "metadata": {},
   "outputs": [
    {
     "name": "stdout",
     "output_type": "stream",
     "text": [
      "Intraday Transactions Started...\n",
      "\n",
      "Day: 14083 / 14083 - Transaction Progress : 773906  - Balance: 5 x 10^12 $\n",
      "Time : 1547 sec = 26 min\n",
      "My Balance =  5 x 10^12 $ in 773906 moves (5306940094972 $)\n",
      "Total Moves until now: 773906\n",
      "Stopped at: 2017-11-10, which is day: 14084 / 14084\n",
      "\n",
      "...Intraday Transactions Finished\n",
      " \n",
      "\n"
     ]
    },
    {
     "data": {
      "text/plain": [
       "14083"
      ]
     },
     "execution_count": 39,
     "metadata": {},
     "output_type": "execute_result"
    }
   ],
   "source": [
    "MY = Possesions()\n",
    "myBalance =1\n",
    "\n",
    "GreedyIntraday(Nmax=10**6, maxStockspDay = 40)"
   ]
  },
  {
   "cell_type": "code",
   "execution_count": 40,
   "metadata": {},
   "outputs": [],
   "source": [
    "CreateTXT('large')"
   ]
  },
  {
   "cell_type": "code",
   "execution_count": 41,
   "metadata": {},
   "outputs": [],
   "source": [
    "pickleSave(obj=MY,name='MY_large')"
   ]
  },
  {
   "cell_type": "code",
   "execution_count": null,
   "metadata": {},
   "outputs": [],
   "source": []
  },
  {
   "cell_type": "code",
   "execution_count": 51,
   "metadata": {},
   "outputs": [
    {
     "name": "stdout",
     "output_type": "stream",
     "text": [
      "Creating Balance and Portfolio Progress through the years...\n",
      "Progress: 14084 / 14084 = 100. % - Time : 0 min\n",
      "Finished in : 0.6510374546051025 sec \n",
      "\n",
      "Plot\n",
      "Converting to Arrays...\n",
      "Conversion Finished in : 0.011000394821166992 sec\n"
     ]
    },
    {
     "data": {
      "image/png": "[encoded data removed]",
      "text/plain": [
       "<Figure size 432x288 with 1 Axes>"
      ]
     },
     "metadata": {
      "needs_background": "light"
     },
     "output_type": "display_data"
    }
   ],
   "source": [
    "res = BalPortfProgress()\n",
    "bal , portf = res[0], res[1]\n",
    "PlotAll(bal,portf,fig_name='Large')\n",
    "\n",
    "# pickleSave(obj=bal,name='bal_small')\n",
    "# pickleSave(obj=portf,name='portfolio_small')"
   ]
  },
  {
   "cell_type": "code",
   "execution_count": null,
   "metadata": {},
   "outputs": [],
   "source": []
  },
  {
   "cell_type": "markdown",
   "metadata": {},
   "source": [
    "### Small.txt - Combination of EarlyDayMoves and MinMaxMoves"
   ]
  },
  {
   "cell_type": "code",
   "execution_count": 43,
   "metadata": {},
   "outputs": [
    {
     "name": "stdout",
     "output_type": "stream",
     "text": [
      "Early Days Transactions Started...\n",
      "\n",
      "Window : 200 / 200 - Time : 4800 sec = 80 min 200 - Time : 0 sec = 0 min\n",
      "My Balance =  4 x 10^9 $ in 400 moves (4287434609 $)\n",
      "Total Moves until now: 400\n",
      "Stopped at: 1985-11-14, which is day: 6000 / 14084\n",
      "\n",
      "...Early Day Transactions Finished\n",
      " \n",
      "\n",
      "MinMax Transactions Started...\n",
      "\n",
      "Window : 300 / 300 - Time : 898 sec = 14 min\n",
      "Total Min-Max Moves Time : 898 sec\n",
      "My Balance =  2 x 10^11 $ in 600 moves (295855436009 $)\n",
      "Total Moves until now: 1000\n",
      "Stopped at: 2017-11-10, which is day: 14084 / 14084\n",
      "\n",
      "...Min Max Transactions Finished\n",
      " \n",
      "\n"
     ]
    }
   ],
   "source": [
    "MY = Possesions()\n",
    "myBalance =1\n",
    "\n",
    "# EarlyDayMoves we want to it to keep it runnins as long as posible and then continue with MinMaxMoves for the rest of the moves       \n",
    "lastDAY = EarlyDayMoves(Nmax=400, days_per_win=30 ) # 2 moves per window\n",
    "# Min Max Moves\n",
    "MinMaxMoves(Nmax=600, start_day = lastDAY, end_day=total_days-1, ConsiderVol=True) # last day = 14083"
   ]
  },
  {
   "cell_type": "code",
   "execution_count": 44,
   "metadata": {},
   "outputs": [],
   "source": [
    "CreateTXT('small')"
   ]
  },
  {
   "cell_type": "code",
   "execution_count": 45,
   "metadata": {},
   "outputs": [],
   "source": [
    "pickleSave(obj=MY,name='MY_small')"
   ]
  },
  {
   "cell_type": "code",
   "execution_count": 49,
   "metadata": {},
   "outputs": [
    {
     "name": "stdout",
     "output_type": "stream",
     "text": [
      "Plot\n",
      "Converting to Arrays...\n",
      "Conversion Finished in : 0.007000446319580078 sec\n"
     ]
    },
    {
     "data": {
      "image/png": "[encoded data removed]",
      "text/plain": [
       "<Figure size 432x288 with 1 Axes>"
      ]
     },
     "metadata": {
      "needs_background": "light"
     },
     "output_type": "display_data"
    }
   ],
   "source": [
    "res = BalPortfProgress()\n",
    "bal , portf = res[0], res[1]\n",
    "PlotAll(bal,portf,fig_name='Small')"
   ]
  },
  {
   "cell_type": "code",
   "execution_count": 47,
   "metadata": {},
   "outputs": [],
   "source": [
    "# pickleSave(obj=bal,name='bal_small')\n",
    "# pickleSave(obj=portf,name='portfolio_small')"
   ]
  },
  {
   "cell_type": "code",
   "execution_count": null,
   "metadata": {},
   "outputs": [],
   "source": []
  },
  {
   "cell_type": "code",
   "execution_count": null,
   "metadata": {},
   "outputs": [],
   "source": []
  },
  {
   "cell_type": "code",
   "execution_count": null,
   "metadata": {},
   "outputs": [],
   "source": []
  },
  {
   "cell_type": "code",
   "execution_count": null,
   "metadata": {},
   "outputs": [],
   "source": []
  },
  {
   "cell_type": "markdown",
   "metadata": {},
   "source": [
    "### Example"
   ]
  },
  {
   "cell_type": "code",
   "execution_count": 40,
   "metadata": {},
   "outputs": [],
   "source": [
    "MY = Possesions()\n",
    "myBalance =1"
   ]
  },
  {
   "cell_type": "code",
   "execution_count": 41,
   "metadata": {},
   "outputs": [],
   "source": [
    "MY.buy(DatetoDay['1962-06-27'], 'GE', 0.45902, 'low', 2 )\n",
    "MY.sell(DatetoDay['1965-12-31'], 'GE', 0.9984, 'high', 2)\n",
    "MY.buy(DatetoDay['1970-05-27'], 'GE', 0.49892, 'low', 4 )\n"
   ]
  },
  {
   "cell_type": "code",
   "execution_count": 42,
   "metadata": {},
   "outputs": [
    {
     "name": "stdout",
     "output_type": "stream",
     "text": [
      "Creating Balance and Portfolio Progress through the years...\n",
      "Progress: 14084 / 14084 = 100. % - Time : 2 min\n",
      "Finished in : 128.58235383033752 sec \n",
      "\n",
      "Plot\n",
      "Converting to Arrays...\n",
      "Conversion Finished in : 0.003000020980834961 sec\n"
     ]
    },
    {
     "data": {
      "image/png": "[encoded data removed]",
      "text/plain": [
       "<Figure size 432x288 with 1 Axes>"
      ]
     },
     "metadata": {
      "needs_background": "light"
     },
     "output_type": "display_data"
    }
   ],
   "source": [
    "res = BalPortfProgress()\n",
    "bal , portf = res[0], res[1]\n",
    "PlotAll(bal,portf,fig_name='GE_test')"
   ]
  }
 ],
 "metadata": {
  "kernelspec": {
   "display_name": "Python 3",
   "language": "python",
   "name": "python3"
  },
  "language_info": {
   "codemirror_mode": {
    "name": "ipython",
    "version": 3
   },
   "file_extension": ".py",
   "mimetype": "text/x-python",
   "name": "python",
   "nbconvert_exporter": "python",
   "pygments_lexer": "ipython3",
   "version": "3.7.0"
  }
 },
 "nbformat": 4,
 "nbformat_minor": 2
}
